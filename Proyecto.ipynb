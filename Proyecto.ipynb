{
 "cells": [
  {
   "cell_type": "markdown",
   "metadata": {},
   "source": [
    "# PROYECTO SIMULACION DE PROCESOS FINANCIEROS"
   ]
  },
  {
   "cell_type": "code",
   "execution_count": 1,
   "metadata": {},
   "outputs": [],
   "source": [
    "import pandas as pd\n",
    "import numpy as np\n",
    "import matplotlib.pyplot as plt"
   ]
  },
  {
   "cell_type": "code",
   "execution_count": 2,
   "metadata": {},
   "outputs": [
    {
     "data": {
      "text/html": [
       "<div>\n",
       "<style scoped>\n",
       "    .dataframe tbody tr th:only-of-type {\n",
       "        vertical-align: middle;\n",
       "    }\n",
       "\n",
       "    .dataframe tbody tr th {\n",
       "        vertical-align: top;\n",
       "    }\n",
       "\n",
       "    .dataframe thead th {\n",
       "        text-align: right;\n",
       "    }\n",
       "</style>\n",
       "<table border=\"1\" class=\"dataframe\">\n",
       "  <thead>\n",
       "    <tr style=\"text-align: right;\">\n",
       "      <th></th>\n",
       "      <th>date</th>\n",
       "      <th>states</th>\n",
       "      <th>positive</th>\n",
       "      <th>negative</th>\n",
       "      <th>pending</th>\n",
       "      <th>hospitalizedCurrently</th>\n",
       "      <th>hospitalizedCumulative</th>\n",
       "      <th>inIcuCurrently</th>\n",
       "      <th>inIcuCumulative</th>\n",
       "      <th>onVentilatorCurrently</th>\n",
       "      <th>...</th>\n",
       "      <th>totalTestResults</th>\n",
       "      <th>lastModified</th>\n",
       "      <th>total</th>\n",
       "      <th>posNeg</th>\n",
       "      <th>deathIncrease</th>\n",
       "      <th>hospitalizedIncrease</th>\n",
       "      <th>negativeIncrease</th>\n",
       "      <th>positiveIncrease</th>\n",
       "      <th>totalTestResultsIncrease</th>\n",
       "      <th>hash</th>\n",
       "    </tr>\n",
       "  </thead>\n",
       "  <tbody>\n",
       "    <tr>\n",
       "      <th>0</th>\n",
       "      <td>20200927</td>\n",
       "      <td>56</td>\n",
       "      <td>7080459</td>\n",
       "      <td>90648092</td>\n",
       "      <td>11136.0</td>\n",
       "      <td>29432.0</td>\n",
       "      <td>404083.0</td>\n",
       "      <td>6080.0</td>\n",
       "      <td>20049.0</td>\n",
       "      <td>1511.0</td>\n",
       "      <td>...</td>\n",
       "      <td>101298794</td>\n",
       "      <td>2020-09-27T00:00:00Z</td>\n",
       "      <td>0</td>\n",
       "      <td>0</td>\n",
       "      <td>307</td>\n",
       "      <td>758</td>\n",
       "      <td>665609</td>\n",
       "      <td>35289</td>\n",
       "      <td>806258</td>\n",
       "      <td>e7c64e674bfc2af02802153452e53628d44c241c</td>\n",
       "    </tr>\n",
       "    <tr>\n",
       "      <th>1</th>\n",
       "      <td>20200926</td>\n",
       "      <td>56</td>\n",
       "      <td>7045170</td>\n",
       "      <td>89982483</td>\n",
       "      <td>11183.0</td>\n",
       "      <td>29554.0</td>\n",
       "      <td>403325.0</td>\n",
       "      <td>6057.0</td>\n",
       "      <td>20002.0</td>\n",
       "      <td>1509.0</td>\n",
       "      <td>...</td>\n",
       "      <td>100492536</td>\n",
       "      <td>2020-09-26T00:00:00Z</td>\n",
       "      <td>0</td>\n",
       "      <td>0</td>\n",
       "      <td>866</td>\n",
       "      <td>1154</td>\n",
       "      <td>886140</td>\n",
       "      <td>47733</td>\n",
       "      <td>1004261</td>\n",
       "      <td>e98f5076c72de4a27a283d22756b7d0b9a44d41f</td>\n",
       "    </tr>\n",
       "    <tr>\n",
       "      <th>2</th>\n",
       "      <td>20200925</td>\n",
       "      <td>56</td>\n",
       "      <td>6997437</td>\n",
       "      <td>89096343</td>\n",
       "      <td>10905.0</td>\n",
       "      <td>29769.0</td>\n",
       "      <td>402171.0</td>\n",
       "      <td>6133.0</td>\n",
       "      <td>19919.0</td>\n",
       "      <td>1506.0</td>\n",
       "      <td>...</td>\n",
       "      <td>99488275</td>\n",
       "      <td>2020-09-25T00:00:00Z</td>\n",
       "      <td>0</td>\n",
       "      <td>0</td>\n",
       "      <td>844</td>\n",
       "      <td>1331</td>\n",
       "      <td>856519</td>\n",
       "      <td>55526</td>\n",
       "      <td>1011675</td>\n",
       "      <td>8d311e73fe038522a1a6be4bc3202de206ec0adb</td>\n",
       "    </tr>\n",
       "    <tr>\n",
       "      <th>3</th>\n",
       "      <td>20200924</td>\n",
       "      <td>56</td>\n",
       "      <td>6941911</td>\n",
       "      <td>88239824</td>\n",
       "      <td>12008.0</td>\n",
       "      <td>30043.0</td>\n",
       "      <td>400840.0</td>\n",
       "      <td>6168.0</td>\n",
       "      <td>19555.0</td>\n",
       "      <td>1560.0</td>\n",
       "      <td>...</td>\n",
       "      <td>98476600</td>\n",
       "      <td>2020-09-24T00:00:00Z</td>\n",
       "      <td>0</td>\n",
       "      <td>0</td>\n",
       "      <td>921</td>\n",
       "      <td>1588</td>\n",
       "      <td>823449</td>\n",
       "      <td>43772</td>\n",
       "      <td>940353</td>\n",
       "      <td>375a88dd29991abc1946cd7f98f4f20a9e37fb5d</td>\n",
       "    </tr>\n",
       "    <tr>\n",
       "      <th>4</th>\n",
       "      <td>20200923</td>\n",
       "      <td>56</td>\n",
       "      <td>6898139</td>\n",
       "      <td>87416375</td>\n",
       "      <td>10535.0</td>\n",
       "      <td>29905.0</td>\n",
       "      <td>399252.0</td>\n",
       "      <td>6113.0</td>\n",
       "      <td>19452.0</td>\n",
       "      <td>1544.0</td>\n",
       "      <td>...</td>\n",
       "      <td>97536247</td>\n",
       "      <td>2020-09-23T00:00:00Z</td>\n",
       "      <td>0</td>\n",
       "      <td>0</td>\n",
       "      <td>1157</td>\n",
       "      <td>1451</td>\n",
       "      <td>800878</td>\n",
       "      <td>38567</td>\n",
       "      <td>923704</td>\n",
       "      <td>b4fe7067370631b26f8e988fd2524b5691235a09</td>\n",
       "    </tr>\n",
       "  </tbody>\n",
       "</table>\n",
       "<p>5 rows × 25 columns</p>\n",
       "</div>"
      ],
      "text/plain": [
       "       date  states  positive  negative  pending  hospitalizedCurrently  \\\n",
       "0  20200927      56   7080459  90648092  11136.0                29432.0   \n",
       "1  20200926      56   7045170  89982483  11183.0                29554.0   \n",
       "2  20200925      56   6997437  89096343  10905.0                29769.0   \n",
       "3  20200924      56   6941911  88239824  12008.0                30043.0   \n",
       "4  20200923      56   6898139  87416375  10535.0                29905.0   \n",
       "\n",
       "   hospitalizedCumulative  inIcuCurrently  inIcuCumulative  \\\n",
       "0                404083.0          6080.0          20049.0   \n",
       "1                403325.0          6057.0          20002.0   \n",
       "2                402171.0          6133.0          19919.0   \n",
       "3                400840.0          6168.0          19555.0   \n",
       "4                399252.0          6113.0          19452.0   \n",
       "\n",
       "   onVentilatorCurrently  ...  totalTestResults          lastModified total  \\\n",
       "0                 1511.0  ...         101298794  2020-09-27T00:00:00Z     0   \n",
       "1                 1509.0  ...         100492536  2020-09-26T00:00:00Z     0   \n",
       "2                 1506.0  ...          99488275  2020-09-25T00:00:00Z     0   \n",
       "3                 1560.0  ...          98476600  2020-09-24T00:00:00Z     0   \n",
       "4                 1544.0  ...          97536247  2020-09-23T00:00:00Z     0   \n",
       "\n",
       "   posNeg  deathIncrease  hospitalizedIncrease negativeIncrease  \\\n",
       "0       0            307                   758           665609   \n",
       "1       0            866                  1154           886140   \n",
       "2       0            844                  1331           856519   \n",
       "3       0            921                  1588           823449   \n",
       "4       0           1157                  1451           800878   \n",
       "\n",
       "   positiveIncrease  totalTestResultsIncrease  \\\n",
       "0             35289                    806258   \n",
       "1             47733                   1004261   \n",
       "2             55526                   1011675   \n",
       "3             43772                    940353   \n",
       "4             38567                    923704   \n",
       "\n",
       "                                       hash  \n",
       "0  e7c64e674bfc2af02802153452e53628d44c241c  \n",
       "1  e98f5076c72de4a27a283d22756b7d0b9a44d41f  \n",
       "2  8d311e73fe038522a1a6be4bc3202de206ec0adb  \n",
       "3  375a88dd29991abc1946cd7f98f4f20a9e37fb5d  \n",
       "4  b4fe7067370631b26f8e988fd2524b5691235a09  \n",
       "\n",
       "[5 rows x 25 columns]"
      ]
     },
     "execution_count": 2,
     "metadata": {},
     "output_type": "execute_result"
    }
   ],
   "source": [
    "data = pd.read_csv('us_covid19_daily.csv')\n",
    "data.head()"
   ]
  },
  {
   "cell_type": "markdown",
   "metadata": {},
   "source": [
    "## Limpieza de datos"
   ]
  },
  {
   "cell_type": "code",
   "execution_count": 4,
   "metadata": {},
   "outputs": [
    {
     "data": {
      "text/html": [
       "<div>\n",
       "<style scoped>\n",
       "    .dataframe tbody tr th:only-of-type {\n",
       "        vertical-align: middle;\n",
       "    }\n",
       "\n",
       "    .dataframe tbody tr th {\n",
       "        vertical-align: top;\n",
       "    }\n",
       "\n",
       "    .dataframe thead th {\n",
       "        text-align: right;\n",
       "    }\n",
       "</style>\n",
       "<table border=\"1\" class=\"dataframe\">\n",
       "  <thead>\n",
       "    <tr style=\"text-align: right;\">\n",
       "      <th></th>\n",
       "      <th>positives</th>\n",
       "      <th>recovered</th>\n",
       "      <th>hospitalized</th>\n",
       "      <th>death</th>\n",
       "    </tr>\n",
       "    <tr>\n",
       "      <th>index</th>\n",
       "      <th></th>\n",
       "      <th></th>\n",
       "      <th></th>\n",
       "      <th></th>\n",
       "    </tr>\n",
       "  </thead>\n",
       "  <tbody>\n",
       "    <tr>\n",
       "      <th>245</th>\n",
       "      <td>6898139</td>\n",
       "      <td>2672338.0</td>\n",
       "      <td>29905.0</td>\n",
       "      <td>193931.0</td>\n",
       "    </tr>\n",
       "    <tr>\n",
       "      <th>246</th>\n",
       "      <td>6941911</td>\n",
       "      <td>2710183.0</td>\n",
       "      <td>30043.0</td>\n",
       "      <td>194852.0</td>\n",
       "    </tr>\n",
       "    <tr>\n",
       "      <th>247</th>\n",
       "      <td>6997437</td>\n",
       "      <td>2727335.0</td>\n",
       "      <td>29769.0</td>\n",
       "      <td>195696.0</td>\n",
       "    </tr>\n",
       "    <tr>\n",
       "      <th>248</th>\n",
       "      <td>7045170</td>\n",
       "      <td>2750459.0</td>\n",
       "      <td>29554.0</td>\n",
       "      <td>196562.0</td>\n",
       "    </tr>\n",
       "    <tr>\n",
       "      <th>249</th>\n",
       "      <td>7080459</td>\n",
       "      <td>2766280.0</td>\n",
       "      <td>29432.0</td>\n",
       "      <td>196869.0</td>\n",
       "    </tr>\n",
       "  </tbody>\n",
       "</table>\n",
       "</div>"
      ],
      "text/plain": [
       "       positives  recovered  hospitalized     death\n",
       "index                                              \n",
       "245      6898139  2672338.0       29905.0  193931.0\n",
       "246      6941911  2710183.0       30043.0  194852.0\n",
       "247      6997437  2727335.0       29769.0  195696.0\n",
       "248      7045170  2750459.0       29554.0  196562.0\n",
       "249      7080459  2766280.0       29432.0  196869.0"
      ]
     },
     "execution_count": 4,
     "metadata": {},
     "output_type": "execute_result"
    }
   ],
   "source": [
    "clean_data = pd.DataFrame()\n",
    "# Escoger las variables a analizar\n",
    "clean_data['positives'] = data.T.loc['positive']\n",
    "clean_data['recovered'] = data.T.loc['recovered']\n",
    "clean_data['hospitalized'] = data.T.loc['hospitalizedCurrently']\n",
    "clean_data['death'] = data.T.loc['death']\n",
    "# Invertir datos para tener los valores iniciales al principio\n",
    "clean_data = clean_data.iloc[::-1] \n",
    "# Reemplazar index por uno que tenga los vlores de forma descendiente\n",
    "clean_data['index'] = [i for i in range(len(clean_data['death']))]\n",
    "clean_data.set_index('index', inplace = True)\n",
    "# Llenar valores nulos con ceros\n",
    "clean_data.fillna(0, inplace = True)\n",
    "\n",
    "# Mostrar la cola del data frame\n",
    "clean_data.tail()"
   ]
  },
  {
   "cell_type": "markdown",
   "metadata": {},
   "source": [
    "# Analisis inicial de datos"
   ]
  },
  {
   "cell_type": "code",
   "execution_count": 5,
   "metadata": {},
   "outputs": [
    {
     "data": {
      "image/png": "[encoded data removed]",
      "text/plain": [
       "<Figure size 432x288 with 1 Axes>"
      ]
     },
     "metadata": {
      "needs_background": "light"
     },
     "output_type": "display_data"
    },
    {
     "data": {
      "image/png": "[encoded data removed]",
      "text/plain": [
       "<Figure size 432x288 with 1 Axes>"
      ]
     },
     "metadata": {
      "needs_background": "light"
     },
     "output_type": "display_data"
    },
    {
     "data": {
      "image/png": "[encoded data removed]",
      "text/plain": [
       "<Figure size 432x288 with 1 Axes>"
      ]
     },
     "metadata": {
      "needs_background": "light"
     },
     "output_type": "display_data"
    },
    {
     "data": {
      "image/png": "[encoded data removed]",
      "text/plain": [
       "<Figure size 432x288 with 1 Axes>"
      ]
     },
     "metadata": {
      "needs_background": "light"
     },
     "output_type": "display_data"
    }
   ],
   "source": [
    "# Plotear los datos que tenemos individualmente para poder analizar cada uno por separado\n",
    "color_index = 0\n",
    "colors = \"bgrcmykw\"\n",
    "for i in range(len([c for c in clean_data])):\n",
    "    plt.plot(clean_data.iloc[:,i],label = [c for c in clean_data][i], c = colors[color_index])\n",
    "    color_index += 1\n",
    "    plt.xlabel('Time')\n",
    "    plt.ylabel([c for c in clean_data][i])\n",
    "    plt.legend()\n",
    "    plt.grid()\n",
    "    plt.show()"
   ]
  },
  {
   "cell_type": "code",
   "execution_count": null,
   "metadata": {},
   "outputs": [],
   "source": []
  }
 ],
 "metadata": {
  "kernelspec": {
   "display_name": "Python 3",
   "language": "python",
   "name": "python3"
  },
  "language_info": {
   "codemirror_mode": {
    "name": "ipython",
    "version": 3
   },
   "file_extension": ".py",
   "mimetype": "text/x-python",
   "name": "python",
   "nbconvert_exporter": "python",
   "pygments_lexer": "ipython3",
   "version": "3.8.3"
  }
 },
 "nbformat": 4,
 "nbformat_minor": 4
}
